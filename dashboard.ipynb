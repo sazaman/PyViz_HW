{
 "cells": [
  {
   "cell_type": "markdown",
   "metadata": {},
   "source": [
    "San Francisco Rental Prices Dashboard\n",
    "\n",
    "In this notebook, you will compile the visualizations from the previous analysis into functions that can be used for a Panel dashboard."
   ]
  },
  {
   "cell_type": "code",
   "execution_count": 87,
   "metadata": {},
   "outputs": [],
   "source": [
    "# initial imports\n",
    "import os\n",
    "import pandas as pd\n",
    "import matplotlib.pyplot as plt\n",
    "import panel as pn\n",
    "import plotly.express as px\n",
    "from pathlib import Path\n",
    "from dotenv import load_dotenv\n",
    "\n",
    "# Initialize the Panel Extensions (for Plotly)\n",
    "pn.extension('plotly')"
   ]
  },
  {
   "cell_type": "code",
   "execution_count": 88,
   "metadata": {},
   "outputs": [],
   "source": [
    "import hvplot.pandas"
   ]
  },
  {
   "cell_type": "code",
   "execution_count": 89,
   "metadata": {},
   "outputs": [],
   "source": [
    "# Read the Mapbox API key\n",
    "load_dotenv(dotenv_path=\"mapbox.env\")\n",
    "map_box_api = os.getenv(\"map_box_api\")\n",
    "\n",
    "# Set the Mapbox API\n",
    "px.set_mapbox_access_token(map_box_api)"
   ]
  },
  {
   "cell_type": "markdown",
   "metadata": {},
   "source": [
    "Import Data"
   ]
  },
  {
   "cell_type": "code",
   "execution_count": 90,
   "metadata": {},
   "outputs": [],
   "source": [
    "# Import the CSVs to Pandas DataFrames\n",
    "file_path = Path(\"Data/sfo_neighborhoods_census_data.csv\")\n",
    "sfo_data = pd.read_csv(file_path, index_col=\"year\")\n",
    "\n",
    "file_path = Path(\"Data/neighborhoods_coordinates.csv\")\n",
    "df_neighborhood_locations = pd.read_csv(file_path)"
   ]
  },
  {
   "cell_type": "markdown",
   "metadata": {},
   "source": [
    "Panel Visualizations\n",
    "\n",
    "In this section, you will copy the code for each plot type from your analysis notebook and place it into separate functions that Panel can use to create panes for the dashboard. These functions will convert the plot object to a Panel pane.Be sure to include any DataFrame transformation/manipulation code required along with the plotting code.Return a Panel pane object from each function that can be used to build the dashboard.Note: Remove any .show() lines from the code. We want to return the plots instead of showing them. The Panel dashboard will then display the plots."
   ]
  },
  {
   "cell_type": "code",
   "execution_count": 91,
   "metadata": {},
   "outputs": [],
   "source": [
    "# Define Panel Visualization Functions\n",
    "def housing_units_per_year():\n",
    "    avg_house_per_year = sfo_data['housing_units'].groupby(by='year').mean().reset_index()\n",
    "    fig_housing_units = avg_house_per_year.hvplot.bar(ylim=[370000, 386000],\n",
    "                                                      title='Housing Units in San Francisco from 2010 to 2016')\n",
    "    avg_house_per_year_plot.set_xlabel(\"Year\")\n",
    "    avg_house_per_year_plot.set_ylabel(\"Housing Units\")\n",
    "    return fig_housing_units"
   ]
  },
  {
   "cell_type": "code",
   "execution_count": 92,
   "metadata": {},
   "outputs": [],
   "source": [
    "def average_gross_rent():\n",
    "    avg_costs = sfo_data[['sale_price_sqr_foot','gross_rent']].groupby(by='year').mean()\n",
    "    avg_gross_rent = avg_costs['gross_rent'].hvplot()\n",
    "    return avg_gross_rent"
   ]
  },
  {
   "cell_type": "code",
   "execution_count": 93,
   "metadata": {},
   "outputs": [],
   "source": [
    "def average_sales_price():\n",
    "    avg_costs = sfo_data[['sale_price_sqr_foot','gross_rent']].groupby(by='year').mean()\n",
    "    avg_sales_price = avg_costs['sale_price_sqr_foot'].hvplot()\n",
    "    return avg_sales_price"
   ]
  },
  {
   "cell_type": "code",
   "execution_count": 94,
   "metadata": {},
   "outputs": [],
   "source": [
    "def average_price_by_neighborhood():\n",
    "    yr_neigh_grp = sfo_data.groupby(['year', 'neighborhood']).mean()\n",
    "    yr_neigh_grp = yr_neigh_grp.reset_index()\n",
    "    avg_price_by_neigh = yr_neigh_grp.hvplot.line(x='year', y='sale_price_sqr_foot', ylabel='Avg. Sale Price per Square Foot', groupby='neighborhood')\n",
    "    return avg_price_by_neigh"
   ]
  },
  {
   "cell_type": "code",
   "execution_count": 95,
   "metadata": {},
   "outputs": [],
   "source": [
    "def top_most_expensive_neighborhoods():\n",
    "    top_10 = sfo_data.groupby(['neighborhood']).mean().sort_values(by='sale_price_sqr_foot', ascending=False)[:10]\n",
    "    top_10.hvplot.bar(x='neighborhood', y='sale_price_sqr_foot', title='Top 10 Expensive SFO Neighborhoods', width=1200)\n",
    "    return top_10_plot"
   ]
  },
  {
   "cell_type": "code",
   "execution_count": 96,
   "metadata": {},
   "outputs": [],
   "source": [
    "def parallel_coordinates():\n",
    "    top_10 = sfo_data.groupby(['neighborhood']).mean().sort_values(by='sale_price_sqr_foot', ascending=False)[:10]\n",
    "    \n",
    "    top_10_coord_plot = px.parallel_coordinates(\n",
    "    top_10,\n",
    "    dimensions=[\"sale_price_sqr_foot\", \"housing_units\", \"gross_rent\"],\n",
    "    color=\"gross_rent\",\n",
    "    labels={\n",
    "        \"sale_price_sqr_foot\": \"Price per Square Foot\",\n",
    "        \"housing_units\": \"# Of Housing Units\",\n",
    "        \"prop_size\": \"Property Size\",\n",
    "        \"gross_rent\": \"Gross Rent\",\n",
    "    }\n",
    ")\n",
    "    return top_10_coord_plot"
   ]
  },
  {
   "cell_type": "code",
   "execution_count": 97,
   "metadata": {},
   "outputs": [],
   "source": [
    "def parallel_categories():\n",
    "    top_10 = sfo_data.groupby(['neighborhood']).mean().sort_values(by='sale_price_sqr_foot', ascending=False)[:10]\n",
    "    \n",
    "    top_10_cat_plot = px.parallel_categories(\n",
    "    top_10.reset_index(),\n",
    "    dimensions=[\"neighborhood\", \"sale_price_sqr_foot\", \"housing_units\", \"gross_rent\"],\n",
    "    color=\"gross_rent\",\n",
    "    #color_continuous_scale=px.colors.sequential.Inferno,\n",
    "    labels={\n",
    "        \"neighborhood\": \"Neighborhoods\",\n",
    "        \"sale_price_sqr_foot\": \"Price per Square Foot\",\n",
    "        \"housing_units\": \"# Of Housing Units\",\n",
    "        \"prop_size\": \"Property Size\",\n",
    "        \"gross_rent\": \"Gross Rent\",\n",
    "    }\n",
    ")\n",
    "    return top_10_cat_plot"
   ]
  },
  {
   "cell_type": "code",
   "execution_count": 134,
   "metadata": {},
   "outputs": [],
   "source": [
    "def neighborhood_map():\n",
    "    sfo_avgs = sfo_data.groupby(['neighborhood']).mean().reset_index()\n",
    "    sfo_avgs = pd.concat([sfo_avgs, df_neighborhood_locations], axis='columns', join='inner')\n",
    "    \n",
    "    neigh_location = px.scatter_mapbox(\n",
    "    sfo_avgs,\n",
    "    lat=\"Lat\",\n",
    "    lon=\"Lon\",\n",
    "    size=\"sale_price_sqr_foot\",\n",
    "    color=\"gross_rent\",\n",
    "    color_continuous_scale=px.colors.cyclical.IceFire,\n",
    "    title=\"Neighborhood Locations in San Francisco\",\n",
    "    zoom=10,\n",
    "    height=750\n",
    "    \n",
    ")\n",
    "    return neigh_location"
   ]
  },
  {
   "cell_type": "markdown",
   "metadata": {},
   "source": [
    "Panel Dashboard\n",
    "\n",
    "In this section, you will combine all of the plots into a single dashboard view using Panel. Be creative with your dashboard design!"
   ]
  },
  {
   "cell_type": "code",
   "execution_count": 144,
   "metadata": {},
   "outputs": [],
   "source": [
    "Intro = pn.Column(\n",
    "    (\"\"\"This Dashboard shows property data for San Francisco from 2010 to 2016. \n",
    "    You can navigate through the various tabs above to explore more details of the analysis of San Francisco real estate market. \"\"\"),\n",
    "    (\"## Average Sale Price Per Square Foot and Gross Rent in San Francisco\"),\n",
    "    neighborhood_map()\n",
    ")\n",
    "    \n",
    "rental_analysis = pn.Column(\n",
    "    (\"## San Francisco Housing Rental Analysis - 2010 to 2016\"),\n",
    "    housing_units_per_year(),\n",
    "    average_gross_rent(),\n",
    "    average_sales_price()\n",
    ")\n",
    "\n",
    "neigh_analysis = pn.Column(\n",
    "    (\"## San Francisco Top 10 Most Expensive Neighborhood Analysis - 2010 to 2016\"),\n",
    "    average_price_by_neighborhood(),\n",
    "    top_most_expensive_neighborhoods()\n",
    ")\n",
    "\n",
    "parallel_plot = pn.Column(\n",
    "    (\"## Parallel Coordinates and Parallel Categories Analysis\"),\n",
    "    parallel_coordinates(),\n",
    "    parallel_categories()\n",
    ")"
   ]
  },
  {
   "cell_type": "code",
   "execution_count": 145,
   "metadata": {},
   "outputs": [],
   "source": [
    "panel = pn.Tabs(\n",
    "    (\"About\", Intro),\n",
    "    (\"Rental Analysis\", rental_analysis),\n",
    "    (\"Neighborhood Analysis\", neigh_analysis),\n",
    "    (\"Parallel Plots Analysis\",parallel_plot)\n",
    ")"
   ]
  },
  {
   "cell_type": "markdown",
   "metadata": {},
   "source": [
    "Serve the Panel Dashboard"
   ]
  },
  {
   "cell_type": "code",
   "execution_count": 146,
   "metadata": {},
   "outputs": [
    {
     "name": "stdout",
     "output_type": "stream",
     "text": [
      "Launching server at http://localhost:61246\n"
     ]
    },
    {
     "data": {
      "text/plain": [
       "<bokeh.server.server.Server at 0x7f876910acd0>"
      ]
     },
     "execution_count": 146,
     "metadata": {},
     "output_type": "execute_result"
    }
   ],
   "source": [
    "panel.servable().show()"
   ]
  },
  {
   "cell_type": "code",
   "execution_count": null,
   "metadata": {},
   "outputs": [],
   "source": []
  }
 ],
 "metadata": {
  "kernelspec": {
   "display_name": "Python [conda env:pyvizenv] *",
   "language": "python",
   "name": "conda-env-pyvizenv-py"
  },
  "language_info": {
   "codemirror_mode": {
    "name": "ipython",
    "version": 3
   },
   "file_extension": ".py",
   "mimetype": "text/x-python",
   "name": "python",
   "nbconvert_exporter": "python",
   "pygments_lexer": "ipython3",
   "version": "3.7.7"
  }
 },
 "nbformat": 4,
 "nbformat_minor": 4
}
